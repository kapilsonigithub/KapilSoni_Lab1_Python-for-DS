{
 "cells": [
  {
   "cell_type": "code",
   "execution_count": 48,
   "metadata": {},
   "outputs": [
    {
     "name": "stdout",
     "output_type": "stream",
     "text": [
      "databse e_commerce created.\n"
     ]
    }
   ],
   "source": [
    "#Create Database\n",
    "import mysql.connector\n",
    "Query = \"\"\"\n",
    "Create database e_commerce;\n",
    "\"\"\"\n",
    "##/* To ensure least usage of resources, least code between open and close connection */\n",
    "connection = mysql.connector.connect(host =\"localhost\",\n",
    "                                    user =\"root\",\n",
    "                                    passwd =\"Abgrain@123\")\n",
    "cursorObject = connection.cursor()\n",
    "cursorObject.execute(Query)\n",
    "connection.close()\n",
    "print('databse e_commerce created.')\n",
    "\n"
   ]
  },
  {
   "cell_type": "code",
   "execution_count": 49,
   "metadata": {},
   "outputs": [
    {
     "ename": "InterfaceError",
     "evalue": "Use multi=True when executing multiple statements",
     "output_type": "error",
     "traceback": [
      "\u001b[1;31m---------------------------------------------------------------------------\u001b[0m",
      "\u001b[1;31mInterfaceError\u001b[0m                            Traceback (most recent call last)",
      "File \u001b[1;32m~\\AppData\\Local\\Packages\\PythonSoftwareFoundation.Python.3.11_qbz5n2kfra8p0\\LocalCache\\local-packages\\Python311\\site-packages\\mysql\\connector\\cursor.py:615\u001b[0m, in \u001b[0;36mMySQLCursor.execute\u001b[1;34m(self, operation, params, multi)\u001b[0m\n\u001b[0;32m    614\u001b[0m \u001b[39mtry\u001b[39;00m:\n\u001b[1;32m--> 615\u001b[0m     \u001b[39mself\u001b[39m\u001b[39m.\u001b[39m_handle_result(\u001b[39mself\u001b[39;49m\u001b[39m.\u001b[39;49m_connection\u001b[39m.\u001b[39;49mcmd_query(stmt))\n\u001b[0;32m    616\u001b[0m \u001b[39mexcept\u001b[39;00m InterfaceError \u001b[39mas\u001b[39;00m err:\n",
      "File \u001b[1;32m~\\AppData\\Local\\Packages\\PythonSoftwareFoundation.Python.3.11_qbz5n2kfra8p0\\LocalCache\\local-packages\\Python311\\site-packages\\mysql\\connector\\connection.py:1056\u001b[0m, in \u001b[0;36mMySQLConnection.cmd_query\u001b[1;34m(self, query, raw, buffered, raw_as_string)\u001b[0m\n\u001b[0;32m   1055\u001b[0m \u001b[39mif\u001b[39;00m \u001b[39mself\u001b[39m\u001b[39m.\u001b[39m_have_next_result:\n\u001b[1;32m-> 1056\u001b[0m     \u001b[39mraise\u001b[39;00m InterfaceError(\n\u001b[0;32m   1057\u001b[0m         \u001b[39m\"\u001b[39m\u001b[39mUse cmd_query_iter for statements with multiple queries.\u001b[39m\u001b[39m\"\u001b[39m\n\u001b[0;32m   1058\u001b[0m     )\n\u001b[0;32m   1060\u001b[0m \u001b[39mreturn\u001b[39;00m result\n",
      "\u001b[1;31mInterfaceError\u001b[0m: Use cmd_query_iter for statements with multiple queries.",
      "\nThe above exception was the direct cause of the following exception:\n",
      "\u001b[1;31mInterfaceError\u001b[0m                            Traceback (most recent call last)",
      "Cell \u001b[1;32mIn[49], line 21\u001b[0m\n\u001b[0;32m     16\u001b[0m cursorObject \u001b[39m=\u001b[39m connection\u001b[39m.\u001b[39mcursor()\n\u001b[0;32m     17\u001b[0m \u001b[39m## execute creates tables, but gives error!  executemany does not gives error, but does nothing!, written both.\u001b[39;00m\n\u001b[0;32m     18\u001b[0m \u001b[39m## also tried running \"multi=True\", but that did nothing.\u001b[39;00m\n\u001b[0;32m     19\u001b[0m \u001b[39m## The only combination worked was execute(Query) and then executemany(Query,\"\")\u001b[39;00m\n\u001b[0;32m     20\u001b[0m \u001b[39m#cursorObject.execute(Query, multi=True)\u001b[39;00m\n\u001b[1;32m---> 21\u001b[0m cursorObject\u001b[39m.\u001b[39;49mexecute(Query)\n\u001b[0;32m     22\u001b[0m cursorObject\u001b[39m.\u001b[39mexecutemany(Query, \u001b[39m\"\u001b[39m\u001b[39m\"\u001b[39m)\n\u001b[0;32m     23\u001b[0m connection\u001b[39m.\u001b[39mcommit()\n",
      "File \u001b[1;32m~\\AppData\\Local\\Packages\\PythonSoftwareFoundation.Python.3.11_qbz5n2kfra8p0\\LocalCache\\local-packages\\Python311\\site-packages\\mysql\\connector\\cursor.py:618\u001b[0m, in \u001b[0;36mMySQLCursor.execute\u001b[1;34m(self, operation, params, multi)\u001b[0m\n\u001b[0;32m    616\u001b[0m \u001b[39mexcept\u001b[39;00m InterfaceError \u001b[39mas\u001b[39;00m err:\n\u001b[0;32m    617\u001b[0m     \u001b[39mif\u001b[39;00m \u001b[39mself\u001b[39m\u001b[39m.\u001b[39m_connection\u001b[39m.\u001b[39mhave_next_result:\n\u001b[1;32m--> 618\u001b[0m         \u001b[39mraise\u001b[39;00m InterfaceError(\n\u001b[0;32m    619\u001b[0m             \u001b[39m\"\u001b[39m\u001b[39mUse multi=True when executing multiple statements\u001b[39m\u001b[39m\"\u001b[39m\n\u001b[0;32m    620\u001b[0m         ) \u001b[39mfrom\u001b[39;00m \u001b[39merr\u001b[39;00m\n\u001b[0;32m    621\u001b[0m     \u001b[39mraise\u001b[39;00m\n\u001b[0;32m    622\u001b[0m \u001b[39mreturn\u001b[39;00m \u001b[39mNone\u001b[39;00m\n",
      "\u001b[1;31mInterfaceError\u001b[0m: Use multi=True when executing multiple statements"
     ]
    }
   ],
   "source": [
    "#Create Tables\n",
    "import mysql.connector\n",
    "Query = \"\"\"\n",
    "    create table e_commerce.supplier (SUPP_ID int primary key, SUPP_NAME varchar(50), SUPP_CITY varchar(50), SUPP_PHONE varchar(10));\n",
    "    create table e_commerce.customer (CUS_ID INT NOT NULL, CUS_NAME VARCHAR(20) NULL DEFAULT NULL, CUS_PHONE VARCHAR(10), CUS_CITY varchar(30) ,CUS_GENDER CHAR(1), PRIMARY KEY (CUS_ID));\n",
    "    create table e_commerce.category (CAT_ID INT NOT NULL, CAT_NAME VARCHAR(20) NULL DEFAULT NULL,PRIMARY KEY (CAT_ID));\n",
    "    create table e_commerce.product (PRO_ID INT NOT NULL, PRO_NAME VARCHAR(20)NULL DEFAULT NULL, PRO_DESC VARCHAR(60) NULL DEFAULT NULL, CAT_ID INT NOT NULL, PRIMARY KEY (PRO_ID),FOREIGN KEY (CAT_ID) REFERENCES CATEGORY (CAT_ID));\n",
    "    create table e_commerce.product_details (PROD_ID INT NOT NULL, PRO_ID INT NOT NULL, SUPP_ID INT NOT NULL, PROD_PRICE INT NOT NULL,PRIMARY KEY (PROD_ID),FOREIGN KEY (PRO_ID) REFERENCES PRODUCT (PRO_ID), FOREIGN KEY (SUPP_ID) REFERENCES SUPPLIER(SUPP_ID));\n",
    "    create table e_commerce.orders (ORD_ID INT NOT NULL, ORD_AMOUNT INT NOT NULL, ORD_DATE DATE, CUS_ID INT NOT NULL, PROD_ID INT NOT NULL,PRIMARY KEY (ORD_ID),FOREIGN KEY (CUS_ID) REFERENCES CUSTOMER(CUS_ID),FOREIGN KEY (PROD_ID) REFERENCES PRODUCT_DETAILS(PROD_ID));\n",
    "    create table e_commerce.rating (RAT_ID INT NOT NULL, CUS_ID INT NOT NULL, SUPP_ID INT NOT NULL, RAT_RATSTARS INT NOT NULL,PRIMARY KEY (RAT_ID),FOREIGN KEY (SUPP_ID) REFERENCES SUPPLIER (SUPP_ID),FOREIGN KEY (CUS_ID) REFERENCES CUSTOMER(CUS_ID));\n",
    "\"\"\"\n",
    "connection = mysql.connector.connect(host =\"localhost\",\n",
    "                                    user =\"root\",\n",
    "                                    passwd =\"Abgrain@123\",\n",
    "                                    database = \"e_commerce\")\n",
    "cursorObject = connection.cursor()\n",
    "## execute creates tables, but gives error!  executemany does not gives error, but does nothing!, written both.\n",
    "## also tried running \"multi=True\", but that did nothing.\n",
    "## The only combination worked was execute(Query) and then executemany(Query,\"\")\n",
    "#cursorObject.execute(Query, multi=True)\n",
    "cursorObject.execute(Query)\n",
    "cursorObject.executemany(Query, \"\")\n",
    "connection.commit()\n",
    "connection.close()\n",
    "print('Tables created. Please check in mySQL Workbench by:')\n",
    "print('select * from e_commerce.supplier;')\n",
    "print('select * from e_commerce.customer;')\n",
    "print('select * from e_commerce.category;')\n",
    "print('select * from e_commerce.product;')\n",
    "print('select * from e_commerce.product_details;')\n",
    "print('select * from e_commerce.orders;')\n",
    "print('select * from e_commerce.rating;')\n"
   ]
  },
  {
   "cell_type": "code",
   "execution_count": 50,
   "metadata": {},
   "outputs": [
    {
     "name": "stdout",
     "output_type": "stream",
     "text": [
      "record Inserted !\n"
     ]
    }
   ],
   "source": [
    "import mysql.connector\n",
    "\n",
    "connection = mysql.connector.connect(host =\"localhost\",\n",
    "                                    user =\"root\",\n",
    "                                    passwd =\"Abgrain@123\",\n",
    "                                    database = \"e_commerce\")\n",
    " \n",
    "Query = \"\"\"\n",
    "INSERT INTO e_commerce.supplier\n",
    "(supp_id, supp_name, supp_city, supp_phone)\n",
    "VALUES (%s, %s, %s, %s)\n",
    "\"\"\"\n",
    "\n",
    "vals = [\n",
    "    (1, 'Rajesh Retails', 'Delhi', '1234567890'),\n",
    "    (2, 'Appario Ltd.', 'Mumbai', '0227387384'),\n",
    "    (3, 'Knome products', 'Bangalore', '9785462315'),\n",
    "    (4, 'Bansal Retails', 'Kochi', '8975463285'),\n",
    "    (5, 'Mittal Ltd.', 'Lucknow', '7898456532')];\n",
    "\n",
    "cursorObject = connection.cursor()\n",
    "cursorObject.executemany(Query, vals)\n",
    "connection.commit()\n",
    "connection.close()\n",
    "print (\"record Inserted !\")\n",
    "\n"
   ]
  },
  {
   "cell_type": "code",
   "execution_count": 51,
   "metadata": {},
   "outputs": [
    {
     "name": "stdout",
     "output_type": "stream",
     "text": [
      "record Inserted !\n"
     ]
    }
   ],
   "source": [
    "import mysql.connector\n",
    "\n",
    "connection = mysql.connector.connect(host =\"localhost\",\n",
    "                                    user =\"root\",\n",
    "                                    passwd =\"Abgrain@123\",\n",
    "                                    database = \"e_commerce\")\n",
    " \n",
    "Query = \"\"\"\n",
    "INSERT INTO customer\n",
    "(cus_id, cus_name, cus_phone, cus_city, cus_gender)\n",
    "VALUES (%s, %s, %s, %s, %s)\n",
    "\"\"\"\n",
    "\n",
    "vals = [\n",
    "    (1, 'Aakash', '9999999999', 'Delhi', 'M'),\n",
    "    (2, 'Aman', '9785463215', 'Noida', 'M'),\n",
    "    (3, 'Neha', '9999999998', 'Mumbai', 'F'),\n",
    "    (4, 'Megha', '9994562399', 'Koklata', 'F'),\n",
    "    (5, 'Pulkit', '7895999999', 'Lucknow', 'M')];\n",
    "\n",
    "cursorObject = connection.cursor()\n",
    "cursorObject.executemany(Query, vals)\n",
    "connection.commit()\n",
    "connection.close()\n",
    "print (\"record Inserted !\")\n"
   ]
  },
  {
   "cell_type": "code",
   "execution_count": 52,
   "metadata": {},
   "outputs": [
    {
     "name": "stdout",
     "output_type": "stream",
     "text": [
      "record Inserted !\n"
     ]
    }
   ],
   "source": [
    "import mysql.connector\n",
    "\n",
    "connection = mysql.connector.connect(host =\"localhost\",\n",
    "                                    user =\"root\",\n",
    "                                    passwd =\"Abgrain@123\",\n",
    "                                    database = \"e_commerce\")\n",
    " \n",
    "Query = \"\"\"\n",
    "INSERT INTO category\n",
    "(Cat_ID, Cat_Name)\n",
    "VALUES (%s, %s)\n",
    "\"\"\"\n",
    "\n",
    "vals = [\n",
    "    (1, 'Books'),\n",
    "    (2, 'Games'),\n",
    "    (3, 'Groceries'),\n",
    "    (4, 'Electronics'),\n",
    "    (5, 'Clothes')];\n",
    "\n",
    "cursorObject = connection.cursor()\n",
    "cursorObject.executemany(Query, vals)\n",
    "connection.commit()\n",
    "connection.close()\n",
    "print (\"record Inserted !\")\n"
   ]
  },
  {
   "cell_type": "code",
   "execution_count": 53,
   "metadata": {},
   "outputs": [
    {
     "name": "stdout",
     "output_type": "stream",
     "text": [
      "record Inserted !\n"
     ]
    }
   ],
   "source": [
    "import mysql.connector\n",
    "\n",
    "connection = mysql.connector.connect(host =\"localhost\",\n",
    "                                    user =\"root\",\n",
    "                                    passwd =\"Abgrain@123\",\n",
    "                                    database = \"e_commerce\")\n",
    " \n",
    "Query = \"\"\"\n",
    "INSERT INTO product\n",
    "(Pro_ID, Pro_Name, Pro_Desc, Cat_ID)\n",
    "VALUES (%s, %s, %s, %s)\n",
    "\"\"\"\n",
    "\n",
    "vals = [\n",
    "    (1, 'GTA V', 'GTA - five', 2),\n",
    "    (2, 'Tshirt', 'T - Shirt', 5),\n",
    "    (3, 'ROG Laptop', 'ROG Laptop (Asus)', 4),\n",
    "    (4, 'OATS', 'Oats, masala', 3),\n",
    "    (5, 'Harry Potter', 'Harry Potter Series', 1)];\n",
    "\n",
    "cursorObject = connection.cursor()\n",
    "cursorObject.executemany(Query, vals)\n",
    "connection.commit()\n",
    "connection.close()\n",
    "print (\"record Inserted !\")\n"
   ]
  },
  {
   "cell_type": "code",
   "execution_count": 54,
   "metadata": {},
   "outputs": [
    {
     "name": "stdout",
     "output_type": "stream",
     "text": [
      "record Inserted !\n"
     ]
    }
   ],
   "source": [
    "import mysql.connector\n",
    "\n",
    " \n",
    "Query = \"\"\"\n",
    "INSERT INTO Product_details\n",
    "(Prod_ID, Pro_ID, SUPP_ID, Prod_Price)\n",
    "VALUES (%s, %s, %s, %s)\n",
    "\"\"\"\n",
    "\n",
    "vals = [\n",
    "    (1, 1, 2, 1500),\n",
    "    (2, 3, 5, 30000),\n",
    "    (3, 5, 1, 3000),\n",
    "    (4, 2, 3, 2500),\n",
    "    (5, 4, 1, 1000)];\n",
    "\n",
    "connection = mysql.connector.connect(host =\"localhost\",\n",
    "                                    user =\"root\",\n",
    "                                    passwd =\"Abgrain@123\",\n",
    "                                    database = \"e_commerce\")\n",
    "cursorObject = connection.cursor()\n",
    "cursorObject.executemany(Query, vals)\n",
    "connection.commit()\n",
    "connection.close()\n",
    "print (\"record Inserted !\")\n"
   ]
  },
  {
   "cell_type": "code",
   "execution_count": 55,
   "metadata": {},
   "outputs": [
    {
     "name": "stdout",
     "output_type": "stream",
     "text": [
      "record Inserted !\n"
     ]
    }
   ],
   "source": [
    "import mysql.connector\n",
    "\n",
    " \n",
    "Query = \"\"\"\n",
    "INSERT INTO orders\n",
    "(ORD_ID, ORD_Amount, ORD_Date, CUS_ID, PROD_ID)\n",
    "VALUES (%s, %s, %s, %s, %s)\n",
    "\"\"\"\n",
    "\n",
    "vals = [\n",
    "    (20, 1500, '2021-10-12', 3, 5),\n",
    "    (25, 30500, '2021-09-16', 5, 2),\n",
    "    (26, 2000, '2021-10-05', 1, 1),\n",
    "    (30, 3500, '2021-08-16', 4, 3),\n",
    "    (50, 2000, '2021-10-06', 2, 1)];\n",
    "\n",
    "connection = mysql.connector.connect(host =\"localhost\",\n",
    "                                    user =\"root\",\n",
    "                                    passwd =\"Abgrain@123\",\n",
    "                                    database = \"e_commerce\")\n",
    "cursorObject = connection.cursor()\n",
    "cursorObject.executemany(Query, vals)\n",
    "connection.commit()\n",
    "connection.close()\n",
    "print (\"record Inserted !\")\n"
   ]
  },
  {
   "cell_type": "code",
   "execution_count": 56,
   "metadata": {},
   "outputs": [
    {
     "name": "stdout",
     "output_type": "stream",
     "text": [
      "record Inserted !\n"
     ]
    }
   ],
   "source": [
    "import mysql.connector\n",
    "\n",
    " \n",
    "Query = \"\"\"\n",
    "INSERT INTO rating\n",
    "(RAT_ID, CUS_ID, SUPP_ID, RAT_RatStars)\n",
    "VALUES (%s, %s, %s, %s)\n",
    "\"\"\"\n",
    "\n",
    "vals = [\n",
    "    (1, 2, 2, 4),\n",
    "    (2, 3, 4, 3),\n",
    "    (3, 5, 1, 5),\n",
    "    (4, 1, 3, 2),\n",
    "    (5, 4, 5, 4)];\n",
    "\n",
    "connection = mysql.connector.connect(host =\"localhost\",\n",
    "                                    user =\"root\",\n",
    "                                    passwd =\"Abgrain@123\",\n",
    "                                    database = \"e_commerce\")\n",
    "cursorObject = connection.cursor()\n",
    "cursorObject.executemany(Query, vals)\n",
    "connection.commit()\n",
    "connection.close()\n",
    "print (\"record Inserted !\")\n"
   ]
  }
 ],
 "metadata": {
  "kernelspec": {
   "display_name": "Python 3",
   "language": "python",
   "name": "python3"
  },
  "language_info": {
   "codemirror_mode": {
    "name": "ipython",
    "version": 3
   },
   "file_extension": ".py",
   "mimetype": "text/x-python",
   "name": "python",
   "nbconvert_exporter": "python",
   "pygments_lexer": "ipython3",
   "version": "3.11.4"
  },
  "orig_nbformat": 4
 },
 "nbformat": 4,
 "nbformat_minor": 2
}
