{
 "cells": [
  {
   "cell_type": "code",
   "execution_count": 1,
   "metadata": {},
   "outputs": [
    {
     "name": "stdout",
     "output_type": "stream",
     "text": [
      "Q3:\n",
      "('M', 1)\n",
      "('F', 1)\n"
     ]
    }
   ],
   "source": [
    "import mysql.connector\n",
    "import pandas as pd\n",
    "connection = mysql.connector.connect(host =\"localhost\",\n",
    "                                    user =\"root\",\n",
    "                                    passwd =\"Abgrain@123\",\n",
    "                                    database = \"e_commerce\")\n",
    "\n",
    "cursorObject = connection.cursor()\n",
    "Query = \"\"\"\n",
    "select CUS_GENDER, COUNT(CUS_GENDER) as Cnt from customer\n",
    "where CUS_ID IN (select CUS_ID from orders where ORD_AMOUNT > 3000)\n",
    "GROUP BY CUS_GENDER;\n",
    "\"\"\"\n",
    "cursorObject.execute(Query)\n",
    "output = cursorObject.fetchall()\n",
    "print('Q3:')\n",
    "for x in output:\n",
    "    print(x)\n",
    "output_df = pd.DataFrame(output, columns=['CUS_Gender', 'Cnt'])\n",
    "output_df\n",
    "\n",
    "## closing the connection\n",
    "connection.close()\n"
   ]
  },
  {
   "cell_type": "code",
   "execution_count": 2,
   "metadata": {},
   "outputs": [
    {
     "name": "stdout",
     "output_type": "stream",
     "text": [
      "Q4:\n",
      "(50, 2000, datetime.date(2021, 10, 6), 2, 1, 'GTA V')\n"
     ]
    }
   ],
   "source": [
    "import mysql.connector\n",
    "import pandas as pd\n",
    "connection = mysql.connector.connect(host =\"localhost\",\n",
    "                                    user =\"root\",\n",
    "                                    passwd =\"Abgrain@123\",\n",
    "                                    database = \"e_commerce\")\n",
    "\n",
    "cursorObject = connection.cursor()\n",
    "Query = \"\"\"\n",
    "select o.*, p.PRO_NAME from orders as o\n",
    "LEFT JOIN product as p ON p.PRO_ID = o.PROD_ID\n",
    "where CUS_ID = 2;\n",
    "\"\"\"\n",
    "cursorObject.execute(Query)\n",
    "output = cursorObject.fetchall()\n",
    "print('Q4:')\n",
    "for x in output:\n",
    "    print(x)\n",
    "output_df = pd.DataFrame(output, columns=['Ord_ID', 'Ord_Amount', 'Ord_Date', 'Cus_ID', 'Prod_Id', 'Pro_Name'])\n",
    "output_df\n",
    "\n",
    "## closing the connection\n",
    "connection.close()\n"
   ]
  },
  {
   "cell_type": "code",
   "execution_count": 3,
   "metadata": {},
   "outputs": [
    {
     "name": "stdout",
     "output_type": "stream",
     "text": [
      "Q5:\n",
      "(1, 'Rajesh Retails', 'Delhi', '1234567890')\n"
     ]
    }
   ],
   "source": [
    "import mysql.connector\n",
    "import pandas as pd\n",
    "connection = mysql.connector.connect(host =\"localhost\",\n",
    "                                    user =\"root\",\n",
    "                                    passwd =\"Abgrain@123\",\n",
    "                                    database = \"e_commerce\")\n",
    "\n",
    "cursorObject = connection.cursor()\n",
    "Query = \"\"\"\n",
    "select * from supplier s where s.SUPP_ID IN\n",
    "(select SUPP_ID from (select SUPP_ID, COUNT(PROD_ID) As Cnt from product_details GROUP BY SUPP_ID having Cnt > 1) i);\n",
    "\"\"\"\n",
    "cursorObject.execute(Query)\n",
    "output = cursorObject.fetchall()\n",
    "print('Q5:')\n",
    "for x in output:\n",
    "    print(x)\n",
    "output_df = pd.DataFrame(output, columns=['Supp_ID', 'Supp_Name', 'Supp_City', 'Supp_Phone'])\n",
    "output_df\n",
    "\n",
    "## closing the connection\n",
    "connection.close()\n"
   ]
  },
  {
   "cell_type": "code",
   "execution_count": 4,
   "metadata": {},
   "outputs": [
    {
     "name": "stdout",
     "output_type": "stream",
     "text": [
      "Q6:\n",
      "(5, 4, 1, 1000, 'OATS')\n"
     ]
    }
   ],
   "source": [
    "import mysql.connector\n",
    "import pandas as pd\n",
    "connection = mysql.connector.connect(host =\"localhost\",\n",
    "                                    user =\"root\",\n",
    "                                    passwd =\"Abgrain@123\",\n",
    "                                    database = \"e_commerce\")\n",
    "\n",
    "cursorObject = connection.cursor()\n",
    "Query = \"\"\"\n",
    "select pd.*, p.PRO_NAME from product_details pd\n",
    "LEFT JOIN product p ON p.PRO_ID = pd.PRO_ID\n",
    " where PROD_PRICE <= (select MIN(PROD_PRICE) from product_details );\n",
    "\"\"\"\n",
    "cursorObject.execute(Query)\n",
    "output = cursorObject.fetchall()\n",
    "print('Q6:')\n",
    "for x in output:\n",
    "    print(x)\n",
    "output_df = pd.DataFrame(output, columns=['Prod_ID', 'Pro_ID', 'Supp_ID', 'Prod_Price', 'Pro_Name'])\n",
    "output_df\n",
    "\n",
    "## closing the connection\n",
    "connection.close()\n"
   ]
  },
  {
   "cell_type": "code",
   "execution_count": 5,
   "metadata": {},
   "outputs": [
    {
     "name": "stdout",
     "output_type": "stream",
     "text": [
      "Q7:\n",
      "(20, 'Harry Potter')\n",
      "(26, 'GTA V')\n",
      "(50, 'GTA V')\n"
     ]
    }
   ],
   "source": [
    "import mysql.connector\n",
    "import pandas as pd\n",
    "connection = mysql.connector.connect(host =\"localhost\",\n",
    "                                    user =\"root\",\n",
    "                                    passwd =\"Abgrain@123\",\n",
    "                                    database = \"e_commerce\")\n",
    "\n",
    "cursorObject = connection.cursor()\n",
    "Query = \"\"\"\n",
    "select o.ORD_ID, p.pro_name\n",
    "from orders o\n",
    "LEFT JOIN Product p ON p.PRO_ID = o.PROD_ID\n",
    "where o.ORD_DATE >= '2021-10-05';\n",
    "\"\"\"\n",
    "cursorObject.execute(Query)\n",
    "output = cursorObject.fetchall()\n",
    "print('Q7:')\n",
    "for x in output:\n",
    "    print(x)\n",
    "output_df = pd.DataFrame(output, columns=['Order_ID', 'Pro_Name'])\n",
    "output_df\n",
    "\n",
    "## closing the connection\n",
    "connection.close()\n"
   ]
  },
  {
   "cell_type": "code",
   "execution_count": 6,
   "metadata": {},
   "outputs": [
    {
     "name": "stdout",
     "output_type": "stream",
     "text": [
      "Q8:\n",
      "('Rajesh Retails', 'Pulkit', 5)\n",
      "('Appario Ltd.', 'Aman', 4)\n",
      "('Mittal Ltd.', 'Megha', 4)\n"
     ]
    }
   ],
   "source": [
    "import mysql.connector\n",
    "import pandas as pd\n",
    "connection = mysql.connector.connect(host =\"localhost\",\n",
    "                                    user =\"root\",\n",
    "                                    passwd =\"Abgrain@123\",\n",
    "                                    database = \"e_commerce\")\n",
    "\n",
    "cursorObject = connection.cursor()\n",
    "Query = \"\"\"\n",
    "select s.SUPP_NAME, c.CUS_NAME, r.RAT_RATSTARS\n",
    "from rating r\n",
    "LEFT JOIN supplier s ON s.SUPP_ID = r.SUPP_ID\n",
    "LEFT JOIN customer c ON c.CUS_ID = r.CUS_ID\n",
    "ORDER BY r.RAT_RATSTARS DESC limit 3;\n",
    "\"\"\"\n",
    "cursorObject.execute(Query)\n",
    "output = cursorObject.fetchall()\n",
    "print('Q8:')\n",
    "for x in output:\n",
    "    print(x)\n",
    "output_df = pd.DataFrame(output, columns=['Supp_Name', 'Cus_Name', 'Rating'])\n",
    "output_df\n",
    "\n",
    "## closing the connection\n",
    "connection.close()\n"
   ]
  },
  {
   "cell_type": "code",
   "execution_count": 7,
   "metadata": {},
   "outputs": [
    {
     "name": "stdout",
     "output_type": "stream",
     "text": [
      "Q9:\n",
      "('Aakash', 'M')\n",
      "('Aman', 'M')\n",
      "('Megha', 'F')\n",
      "('Neha', 'F')\n"
     ]
    }
   ],
   "source": [
    "import mysql.connector\n",
    "import pandas as pd\n",
    "connection = mysql.connector.connect(host =\"localhost\",\n",
    "                                    user =\"root\",\n",
    "                                    passwd =\"Abgrain@123\",\n",
    "                                    database = \"e_commerce\")\n",
    "\n",
    "cursorObject = connection.cursor()\n",
    "Query = \"\"\"\n",
    "select c.cus_name, c.CUS_GENDER from customer c\n",
    "where c.CUS_NAME like '%a' or c.CUS_NAME like 'a%'\n",
    "ORDER BY CUS_NAME;\n",
    "\"\"\"\n",
    "cursorObject.execute(Query)\n",
    "output = cursorObject.fetchall()\n",
    "print('Q9:')\n",
    "for x in output:\n",
    "    print(x)\n",
    "output_df = pd.DataFrame(output, columns=['Cus_Name', 'Cus_Gender'])\n",
    "output_df\n",
    "\n",
    "## closing the connection\n",
    "connection.close()\n"
   ]
  },
  {
   "cell_type": "code",
   "execution_count": 8,
   "metadata": {},
   "outputs": [
    {
     "name": "stdout",
     "output_type": "stream",
     "text": [
      "Q10:\n",
      "(Decimal('34500'),)\n"
     ]
    }
   ],
   "source": [
    "import mysql.connector\n",
    "import pandas as pd\n",
    "connection = mysql.connector.connect(host =\"localhost\",\n",
    "                                    user =\"root\",\n",
    "                                    passwd =\"Abgrain@123\",\n",
    "                                    database = \"e_commerce\")\n",
    "\n",
    "cursorObject = connection.cursor()\n",
    "Query = \"\"\"\n",
    "select SUM(ORD_Amount) As TotalAmt from orders o\n",
    "LEFT JOIN customer c ON c.cus_id = o.cus_id\n",
    "where c.CUS_GENDER = 'M';\n",
    "\"\"\"\n",
    "cursorObject.execute(Query)\n",
    "output = cursorObject.fetchall()\n",
    "print('Q10:')\n",
    "for x in output:\n",
    "    print(x)\n",
    "output_df = pd.DataFrame(output, columns=['TotalAmt'])\n",
    "output_df\n",
    "\n",
    "## closing the connection\n",
    "connection.close()\n"
   ]
  },
  {
   "cell_type": "code",
   "execution_count": 9,
   "metadata": {},
   "outputs": [
    {
     "name": "stdout",
     "output_type": "stream",
     "text": [
      "Q11:\n",
      "(20, 1500, datetime.date(2021, 10, 12), 3, 5, 3, 'Neha', '9999999998', 'Mumbai', 'F')\n",
      "(25, 30500, datetime.date(2021, 9, 16), 5, 2, 5, 'Pulkit', '7895999999', 'Lucknow', 'M')\n",
      "(26, 2000, datetime.date(2021, 10, 5), 1, 1, 1, 'Aakash', '9999999999', 'Delhi', 'M')\n",
      "(30, 3500, datetime.date(2021, 8, 16), 4, 3, 4, 'Megha', '9994562399', 'Koklata', 'F')\n",
      "(50, 2000, datetime.date(2021, 10, 6), 2, 1, 2, 'Aman', '9785463215', 'Noida', 'M')\n"
     ]
    }
   ],
   "source": [
    "import mysql.connector\n",
    "import pandas as pd\n",
    "connection = mysql.connector.connect(host =\"localhost\",\n",
    "                                    user =\"root\",\n",
    "                                    passwd =\"Abgrain@123\",\n",
    "                                    database = \"e_commerce\")\n",
    "\n",
    "cursorObject = connection.cursor()\n",
    "Query = \"\"\"\n",
    "select * from orders o\n",
    "LEFT JOIN customer c ON c.CUS_ID = o.CUS_ID;\n",
    "\"\"\"\n",
    "cursorObject.execute(Query)\n",
    "output = cursorObject.fetchall()\n",
    "print('Q11:')\n",
    "for x in output:\n",
    "    print(x)\n",
    "output_df = pd.DataFrame(output, columns=['Ord_ID', 'Ord_Amount', 'Ord_Date', 'Cus_Id', 'Prod_Id', 'Cus_Id', 'Cus_Name', 'Cus_Phone', 'Cus_City', 'Cus_Gender'])\n",
    "output_df\n",
    "\n",
    "## closing the connection\n",
    "connection.close()\n"
   ]
  },
  {
   "cell_type": "code",
   "execution_count": null,
   "metadata": {},
   "outputs": [],
   "source": []
  }
 ],
 "metadata": {
  "kernelspec": {
   "display_name": "Python 3",
   "language": "python",
   "name": "python3"
  },
  "language_info": {
   "codemirror_mode": {
    "name": "ipython",
    "version": 3
   },
   "file_extension": ".py",
   "mimetype": "text/x-python",
   "name": "python",
   "nbconvert_exporter": "python",
   "pygments_lexer": "ipython3",
   "version": "3.11.4"
  },
  "orig_nbformat": 4
 },
 "nbformat": 4,
 "nbformat_minor": 2
}
